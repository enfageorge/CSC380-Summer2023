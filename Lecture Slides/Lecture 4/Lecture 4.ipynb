{
 "cells": [
  {
   "cell_type": "code",
   "execution_count": null,
   "id": "d7d93250",
   "metadata": {},
   "outputs": [],
   "source": []
  },
  {
   "cell_type": "code",
   "execution_count": 1,
   "id": "0b3a910b",
   "metadata": {
    "slideshow": {
     "slide_type": "skip"
    }
   },
   "outputs": [],
   "source": [
    "from IPython.display import Image\n",
    "from IPython.core.display import HTML "
   ]
  },
  {
   "cell_type": "markdown",
   "id": "9820c6a7",
   "metadata": {
    "slideshow": {
     "slide_type": "slide"
    }
   },
   "source": [
    "## Lecture 3 ( Part One)"
   ]
  },
  {
   "cell_type": "markdown",
   "id": "937744df",
   "metadata": {
    "slideshow": {
     "slide_type": "slide"
    }
   },
   "source": [
    "# Probabilty and Statistics\n",
    "\n",
    "- Probability :\n",
    "    - Deals with predicting the likelihood of future events (Theoretical)\n",
    "    - Enables us to find the consequences of a given ideal world\n",
    "- Statistics : \n",
    "    - Involves the analysis of the frequency of past events. (Applied)\n",
    "    - Enables us to to measure the extent to which our world is ideal.\n",
    "    \n",
    "Statistics uses Probability to address tasks involving data\n",
    "    \n",
    "\n",
    "<sub><sup>[Source - StonyBrook CS](https://www3.cs.stonybrook.edu/~skiena/jaialai/excerpts/node12.html#:~:text=Probability%20deals%20with%20predicting%20the,the%20frequency%20of%20past%20events.)</sub></sup>"
   ]
  },
  {
   "cell_type": "markdown",
   "id": "9d0d655d",
   "metadata": {
    "slideshow": {
     "slide_type": "subslide"
    }
   },
   "source": [
    "## Probabilist versus Statistician\n",
    "\n",
    "<centre><img src=\"https://c1.wallpaperflare.com/preview/938/436/881/casino-dice-tour-gambling-games-las-vegas.jpg\" width=800 height=800 /></centre>\n",
    "\n",
    "<sub><sup>[Source - StonyBrook CS](https://www3.cs.stonybrook.edu/~skiena/jaialai/excerpts/node12.html#:~:text=Probability%20deals%20with%20predicting%20the,the%20frequency%20of%20past%20events.)</sub></sup>\n"
   ]
  },
  {
   "cell_type": "markdown",
   "id": "5fdd0da2",
   "metadata": {
    "slideshow": {
     "slide_type": "subslide"
    }
   },
   "source": [
    " <center><img src=images/1.png width=1500 height=1500> </center>"
   ]
  },
  {
   "cell_type": "markdown",
   "id": "2510cf3d",
   "metadata": {
    "slideshow": {
     "slide_type": "subslide"
    }
   },
   "source": [
    " <center><img src=images/3.png width=1000 height=1000> </center>"
   ]
  },
  {
   "cell_type": "markdown",
   "id": "76137740",
   "metadata": {
    "slideshow": {
     "slide_type": "slide"
    }
   },
   "source": [
    "## Key Statistical Concepts.\n",
    "\n",
    "### Population:\n",
    "\n",
    "- a population is the group of all items of interest to a statistics practitioner.\n",
    "- frequently very large; sometimes infinite.\n",
    "\n",
    "\n",
    "E.g. All the students taking summer courses\n",
    "\n",
    "\n",
    "<sub><sup>[Source - UTDallas](https://personal.utdallas.edu/~scniu/OPRE-6301/documents/What_Is_Statistics.pdf)</sub></sup>"
   ]
  },
  {
   "cell_type": "markdown",
   "id": "4429475c",
   "metadata": {
    "slideshow": {
     "slide_type": "subslide"
    }
   },
   "source": [
    "## Key Statistical Concepts.\n",
    "\n",
    "### Sample\n",
    "\n",
    "- Set of data drawn from the population ( subset of the population)\n",
    "- Potentially very large, but less than the population.\n",
    "\n",
    "<img src = https://s3-eu-west-1.amazonaws.com/blog.omniconvert.com-media/blog/wp-content/uploads/2019/10/21150245/sample-size-definition.png width=800 height = 800 style=\"float: right;\">\n",
    "\n",
    "<right><sub><sup>[Source - UTDallas](https://personal.utdallas.edu/~scniu/OPRE-6301/documents/What_Is_Statistics.pdf)</sub></sup></right>"
   ]
  },
  {
   "cell_type": "markdown",
   "id": "8e7f81fe",
   "metadata": {
    "slideshow": {
     "slide_type": "subslide"
    }
   },
   "source": [
    "## Key Statistical Concepts.\n",
    "\n",
    "### Parameter\n",
    "\n",
    "- Numbers that describe the properties of entire populations.\n",
    "\n",
    "<sub><sup>[Source - StatisticsByJim](https://statisticsbyjim.com/basics/parameter-vs-statistic/)</sub></sup>"
   ]
  },
  {
   "cell_type": "markdown",
   "id": "25bba996",
   "metadata": {
    "slideshow": {
     "slide_type": "subslide"
    }
   },
   "source": [
    "## Key Statistical Concepts.\n",
    "\n",
    "### Statistic\n",
    "\n",
    "- Numbers that describe the properties of samples.\n",
    "\n",
    "<sub><sup>[Source - StatisticsByJim](https://statisticsbyjim.com/basics/parameter-vs-statistic/)</sub></sup>"
   ]
  },
  {
   "cell_type": "markdown",
   "id": "ef818544",
   "metadata": {
    "slideshow": {
     "slide_type": "subslide"
    }
   },
   "source": [
    "## Key Statistical Concepts.\n",
    "\n",
    "### Estimator\n",
    "\n",
    "- Statistic used to infer the unknown parameters of a statistical model.\n"
   ]
  },
  {
   "cell_type": "markdown",
   "id": "7e6ed06f",
   "metadata": {
    "slideshow": {
     "slide_type": "slide"
    }
   },
   "source": [
    "## Parameter Estimation\n",
    "\n",
    "Involves using sample data to estimate the parameters of a distribution.\n",
    "\n",
    "We will look at an example of coin toss to explain this."
   ]
  },
  {
   "cell_type": "markdown",
   "id": "e3c7e996",
   "metadata": {
    "slideshow": {
     "slide_type": "slide"
    }
   },
   "source": [
    "## Recall discussions on Probability"
   ]
  },
  {
   "cell_type": "markdown",
   "id": "e1adcef2",
   "metadata": {
    "slideshow": {
     "slide_type": "subslide"
    }
   },
   "source": [
    "### a. Frequentist Perspective\n",
    "\n",
    "Probability as proportion of success in repeated trials.\n"
   ]
  },
  {
   "cell_type": "markdown",
   "id": "d1c714f4",
   "metadata": {
    "slideshow": {
     "slide_type": "fragment"
    }
   },
   "source": [
    "### b. Bayesian  (Subjective) Perspective\n",
    "\n",
    "Probability $P(X)$ as a measure of the degree of belief that X is true\n"
   ]
  },
  {
   "cell_type": "markdown",
   "id": "c31e6dda",
   "metadata": {
    "slideshow": {
     "slide_type": "slide"
    }
   },
   "source": [
    "## Visiting doctor with Stomach Pain\n",
    "\n",
    "<img src=\"https://p0.pxfuel.com/preview/501/307/763/medical-equipment-medicine-lab-hospital.jpg\" height = 400 width = 400>\n",
    "\n",
    "<br>\n",
    "<br>\n",
    "<br>\n",
    "\n",
    "<sup><sup>Example from [Ox_educ](https://www.youtube.com/watch?v=r76oDIvwETI)</sup></sup>"
   ]
  },
  {
   "cell_type": "markdown",
   "id": "ef81f815",
   "metadata": {
    "slideshow": {
     "slide_type": "slide"
    }
   },
   "source": [
    "## Locating a submarine\n",
    "\n",
    "<img src=\"https://cdn10.picryl.com/photo/2003/07/01/aerial-port-bow-view-of-the-us-navy-usn-los-angeles-class-attack-submarine-718996-1024.jpg\" height = 400 width = 400>\n",
    "\n",
    "<br>\n",
    "<br>\n",
    "<br>\n",
    "\n",
    "<sup><sup>Example from [Ox_educ](https://www.youtube.com/watch?v=r76oDIvwETI)</sup></sup>"
   ]
  },
  {
   "cell_type": "markdown",
   "id": "283eb473",
   "metadata": {
    "slideshow": {
     "slide_type": "slide"
    }
   },
   "source": [
    "## The Monty Hall Problem\n",
    "\n",
    "<br>\n",
    "<br>\n",
    "<br>\n",
    "\n",
    "<img src=\"https://www.wilsongrowthpartners.com/wp-content/uploads/2017/10/Lets-Make-a-Deal.jpg\" >\n",
    "\n",
    "\n",
    "\n",
    "\n"
   ]
  },
  {
   "cell_type": "code",
   "execution_count": 2,
   "id": "b090d304",
   "metadata": {
    "slideshow": {
     "slide_type": "skip"
    }
   },
   "outputs": [],
   "source": [
    "    \n",
    "\n",
    "# -*- coding: utf-8 -*-\n",
    "\"\"\"\n",
    "Created on Mon Dec 21 14:27:34 2020\n",
    "Simulating Monty Hall\n",
    "There are 3 doors in front of you, and there is a prize behind one of them.\n",
    "Once you select a door, Host will open one of the other doors that not have a prize behind it\n",
    "You will then have the opportunity to switch from the door you originally selected\n",
    "@author: Roy.Zhou\n",
    "\n",
    "\"\"\"\n",
    "\n",
    "import numpy as np\n",
    "import matplotlib.pyplot as plt\n",
    "\n",
    "\n",
    "def simulate_monty_hall():\n",
    "\n",
    "    number_of_games = 10000\n",
    "\n",
    "    chance_of_win_by_switching = np.zeros(number_of_games,dtype=np.double)\n",
    "    chance_of_win_by_stay = np.zeros(number_of_games,dtype=np.double)\n",
    "\n",
    "    options = [1,2,3]\n",
    "\n",
    "    for i in range(number_of_games):\n",
    "        door_host_open = options.copy()\n",
    "        door_win = np.random.randint(1,4)\n",
    "        door_host_open.remove(door_win)\n",
    "        door_i_choose = np.random.randint(1,4)\n",
    "        if (door_i_choose!=door_win): door_host_open.remove(door_i_choose)\n",
    "        door_to_switch = options.copy()\n",
    "        door_to_switch.remove(door_i_choose)\n",
    "        door_to_switch.remove(door_host_open[0])\n",
    "        if i==0:\n",
    "            if (door_to_switch[0]==door_win):\n",
    "                chance_of_win_by_switching[i] = 1.0\n",
    "            else:\n",
    "                chance_of_win_by_stay[i] = 1.0\n",
    "        else:\n",
    "            if (door_to_switch[0]==door_win):\n",
    "                chance_of_win_by_switching[i] = (chance_of_win_by_switching[i-1]*np.double(i) + 1.0)/np.double(i+1)\n",
    "                chance_of_win_by_stay[i] = chance_of_win_by_stay[i-1]*np.double(i)/np.double(i+1)\n",
    "            else:\n",
    "                chance_of_win_by_stay[i] = (chance_of_win_by_stay[i-1]*np.double(i) + 1.0)/np.double(i+1)\n",
    "                chance_of_win_by_switching[i] = chance_of_win_by_switching[i-1]*np.double(i)/np.double(i+1)\n",
    "\n",
    "    trials = np.linspace(1,number_of_games,number_of_games)\n",
    "    plt.semilogx(trials, chance_of_win_by_switching, color='red')\n",
    "    plt.semilogx(trials, chance_of_win_by_stay, color='green')\n",
    "    plt.legend(['switch' , 'stay'])\n",
    "    plt.xlabel('Game Number')\n",
    "    plt.ylabel('Probability of winnig')\n",
    "    plt.show()"
   ]
  },
  {
   "cell_type": "markdown",
   "id": "5723783a",
   "metadata": {
    "slideshow": {
     "slide_type": "slide"
    }
   },
   "source": [
    "## Bayesian Approach\n",
    "\n"
   ]
  },
  {
   "cell_type": "markdown",
   "id": "0caaa217",
   "metadata": {
    "slideshow": {
     "slide_type": "fragment"
    }
   },
   "source": [
    "$ C $ = Which door the car is behind ( C = 1,2,3)<br>\n",
    "$ H $ = Which door Monty Hall opens ( H = 2)"
   ]
  },
  {
   "cell_type": "markdown",
   "id": "2480e90a",
   "metadata": {
    "slideshow": {
     "slide_type": "fragment"
    }
   },
   "source": [
    "$P(H = 2| C = 1) = 0.5$<br>\n",
    "$P( H =2 | C = 2) = 0$<br>\n",
    "$P( H = 2| C = 3) = 1$<br>"
   ]
  },
  {
   "cell_type": "markdown",
   "id": "f1fc0114",
   "metadata": {
    "slideshow": {
     "slide_type": "subslide"
    }
   },
   "source": [
    "What are we intreasted in?\n",
    "\n",
    "$$P(C = 3 | H =2)$$\n"
   ]
  },
  {
   "cell_type": "markdown",
   "id": "1d583912",
   "metadata": {
    "slideshow": {
     "slide_type": "subslide"
    }
   },
   "source": [
    "$$p(A| B) = \\frac{p(A and B)}{p(B)}$$"
   ]
  },
  {
   "cell_type": "markdown",
   "id": "bf2ccc67",
   "metadata": {
    "slideshow": {
     "slide_type": "subslide"
    }
   },
   "source": [
    "$$p(A| B) = \\frac{p(A and B)}{p(B)} , p(B | A) = \\frac{p(B and A)}{p(A)}$$"
   ]
  },
  {
   "cell_type": "markdown",
   "id": "221ebad1",
   "metadata": {
    "slideshow": {
     "slide_type": "subslide"
    }
   },
   "source": [
    "$$p(A| B) = \\frac{p(A and B)}{p(B)} , p(B | A) = \\frac{p(B and A)}{p(A)}$$\n",
    "\n",
    "$$ p( A and B ) = p (B and A)$$\n",
    "\n",
    "$$p(A|B) p(B) = p(B | A) p(A)$$\n"
   ]
  },
  {
   "cell_type": "markdown",
   "id": "0367924e",
   "metadata": {
    "slideshow": {
     "slide_type": "subslide"
    }
   },
   "source": [
    "\n",
    "\n",
    "$$p(A| B) = \\frac{p(A and B)}{p(B)} , p(B | A) = \\frac{p(B and A)}{p(A)}$$\n",
    "\n",
    "$$ p( A and B ) = p (B and A)$$\n",
    "\n",
    "$$p(A|B) p(B) = p(B | A) p(A)$$\n",
    "\n",
    "Divide both sides by P(B)\n",
    "\n",
    "$$p(A|B) = \\frac{p(B | A)}{p(A)}$$"
   ]
  },
  {
   "cell_type": "markdown",
   "id": "541f28b6",
   "metadata": {
    "slideshow": {
     "slide_type": "subslide"
    }
   },
   "source": [
    "Apply this equation in our problem\n",
    "\n",
    "$$p(A|B) = \\frac{p(B | A)}{p(A)}$$"
   ]
  },
  {
   "cell_type": "markdown",
   "id": "b2fb2f31",
   "metadata": {
    "slideshow": {
     "slide_type": "subslide"
    }
   },
   "source": [
    "$$P(C = 3 | H =2) = \\frac{p(H = 2, C =3)}{p(H)}  = \\frac{p(H = 2, C =3)}{ \\sum_{c=1}^{3} p(H=2 | C =c) p(C =c)}  $$\n",
    "\n",
    "\n"
   ]
  },
  {
   "cell_type": "markdown",
   "id": "6ced5ba1",
   "metadata": {
    "slideshow": {
     "slide_type": "subslide"
    }
   },
   "source": [
    "What are we intreasted in?\n",
    "\n",
    "$$P(C = 3 | H =2) = \\frac{p(H = 2, C =3)}{p(H)}  = \\frac{p(H = 2, C =3)}{ \\sum_{c=1}^{3} p(H=2 | C =c) p(C =c)}  $$\n",
    "\n",
    "$$ = \\frac{p(H = 2, C =3)}{ p(H=2 | C =1) p(C =1) + p(H=2 | C =2) p(C =2) + p(H=2 | C =2) p(C =2)} $$\n",
    "\n"
   ]
  },
  {
   "cell_type": "markdown",
   "id": "262702c2",
   "metadata": {
    "slideshow": {
     "slide_type": "subslide"
    }
   },
   "source": [
    "What are we intreasted in?\n",
    "\n",
    "$$P(C = 3 | H =2) = \\frac{p(H = 2, C =3)}{p(H)}  = \\frac{p(H = 2, C =3)}{ \\sum_{c=1}^{3} p(H=2 | C =c) p(C =c)}  $$\n",
    "\n",
    "$$ = \\frac{p(H = 2, C =3)}{ p(H=2 | C =1) p(C =1) + p(H=2 | C =2) p(C =2)\n",
    "+ p(H=2 | C =3) p(C =3)} $$\n",
    "\n",
    "$$ = \\frac{1(1/3)}{(1/2)(1/3) + 0 (1/3) + 1(1/3)}  = \\frac{2}{3}$$\n"
   ]
  },
  {
   "cell_type": "markdown",
   "id": "7bfaa2da",
   "metadata": {
    "slideshow": {
     "slide_type": "subslide"
    }
   },
   "source": [
    "$$P(C = 3 | H =2) = \\frac{2}{3}$$\n",
    "$$P(C = 1 | H =2) = \\frac{1}{3}$$"
   ]
  },
  {
   "cell_type": "markdown",
   "id": "97656a1b",
   "metadata": {
    "slideshow": {
     "slide_type": "fragment"
    }
   },
   "source": [
    "It is wiser to switch"
   ]
  },
  {
   "cell_type": "code",
   "execution_count": 10,
   "id": "597c902c",
   "metadata": {
    "slideshow": {
     "slide_type": "subslide"
    }
   },
   "outputs": [
    {
     "data": {
      "image/png": "[encoded data removed]",
      "text/plain": [
       "<Figure size 640x480 with 1 Axes>"
      ]
     },
     "metadata": {},
     "output_type": "display_data"
    }
   ],
   "source": [
    "## Frequentist Approach\n",
    "\n",
    "#@author: Roy.Zhou. Source - https://www.youtube.com/watch?v=J7fmIDRrKRU\n",
    "\n",
    "simulate_monty_hall()"
   ]
  },
  {
   "cell_type": "markdown",
   "id": "244fa194",
   "metadata": {
    "slideshow": {
     "slide_type": "slide"
    }
   },
   "source": [
    "## Baye's Theorm\n",
    "\n",
    "$$p(A|B) = \\frac{p(B | A)}{p(A)}$$"
   ]
  },
  {
   "cell_type": "markdown",
   "id": "d9341ee5",
   "metadata": {
    "slideshow": {
     "slide_type": "slide"
    }
   },
   "source": [
    "#### We need to learn a few more topics before we can move to data, A short lecture will be send out tommorow"
   ]
  }
 ],
 "metadata": {
  "celltoolbar": "Slideshow",
  "kernelspec": {
   "display_name": "Python 3 (ipykernel)",
   "language": "python",
   "name": "python3"
  },
  "language_info": {
   "codemirror_mode": {
    "name": "ipython",
    "version": 3
   },
   "file_extension": ".py",
   "mimetype": "text/x-python",
   "name": "python",
   "nbconvert_exporter": "python",
   "pygments_lexer": "ipython3",
   "version": "3.10.9"
  },
  "rise": {
   "enable_chalkboard": true
  }
 },
 "nbformat": 4,
 "nbformat_minor": 5
}
